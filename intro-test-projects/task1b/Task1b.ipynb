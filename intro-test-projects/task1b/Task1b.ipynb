{
 "cells": [
  {
   "cell_type": "markdown",
   "id": "35e8c95f",
   "metadata": {},
   "source": [
    "\n"
   ]
  },
  {
   "cell_type": "code",
   "execution_count": null,
   "id": "18e19883",
   "metadata": {},
   "outputs": [],
   "source": [
    "# put this file uder the forlder of task1b(contain \"train.csv\", \"sample.csv\")"
   ]
  },
  {
   "cell_type": "code",
   "execution_count": 1,
   "id": "58aef72c",
   "metadata": {},
   "outputs": [],
   "source": [
    "import pandas as pd\n",
    "from sklearn import linear_model\n",
    "\n",
    "import math"
   ]
  },
  {
   "cell_type": "code",
   "execution_count": 2,
   "id": "abef7e6f",
   "metadata": {},
   "outputs": [],
   "source": [
    "path = \"./train.csv\""
   ]
  },
  {
   "cell_type": "code",
   "execution_count": 3,
   "id": "220a8043",
   "metadata": {},
   "outputs": [],
   "source": [
    "data = pd.read_csv(path)"
   ]
  },
  {
   "cell_type": "code",
   "execution_count": 5,
   "id": "d3b9b5db",
   "metadata": {},
   "outputs": [],
   "source": [
    "y = data[\"y\"] # column 0 is id, column 1 is \"y\"\n",
    "X_raw = data[data.columns[2:]] # 5 features from train.csv"
   ]
  },
  {
   "cell_type": "code",
   "execution_count": 7,
   "id": "8e27f01f",
   "metadata": {},
   "outputs": [],
   "source": [
    "X=pd.DataFrame()"
   ]
  },
  {
   "cell_type": "code",
   "execution_count": 8,
   "id": "7b8f5a74",
   "metadata": {
    "scrolled": false
   },
   "outputs": [],
   "source": [
    "col_id = []\n",
    "for i in range(1,6):\n",
    "    X[\"x\"+str(i)] = X_raw.iloc[:,i-1]\n",
    "    X[\"x\"+str(i+5)] = X_raw.iloc[:,i-1].map(lambda x: x**2)\n",
    "    X[\"x\"+str(i+10)] = X_raw.iloc[:,i-1].map(lambda x: math.exp(x))\n",
    "    X[\"x\"+str(i+15)] = X_raw.iloc[:,i-1].map(lambda x: math.cos(x))\n",
    "    "
   ]
  },
  {
   "cell_type": "code",
   "execution_count": 9,
   "id": "86094f42",
   "metadata": {},
   "outputs": [],
   "source": [
    "X = X.iloc[:,[0,4,8,12,16,1,5,9,13,17,2,6,10,14,18,3,7,11,15,19]]"
   ]
  },
  {
   "cell_type": "code",
   "execution_count": 12,
   "id": "6f3b6802",
   "metadata": {},
   "outputs": [],
   "source": [
    "# X.insert(X.shape[1], 'x21', 1)"
   ]
  },
  {
   "cell_type": "code",
   "execution_count": 11,
   "id": "807c5e35",
   "metadata": {},
   "outputs": [
    {
     "data": {
      "text/plain": [
       "LinearRegression()"
      ]
     },
     "execution_count": 11,
     "metadata": {},
     "output_type": "execute_result"
    }
   ],
   "source": [
    "reg = linear_model.LinearRegression()\n",
    "reg.fit(X, y)"
   ]
  },
  {
   "cell_type": "code",
   "execution_count": 19,
   "id": "06f87ada",
   "metadata": {},
   "outputs": [],
   "source": [
    "weights = reg.coef_ "
   ]
  },
  {
   "cell_type": "code",
   "execution_count": 21,
   "id": "e503d7c9",
   "metadata": {},
   "outputs": [],
   "source": [
    "# To csv\n",
    "out_path = \"./submission_task1b.csv\"\n",
    "result = pd.Series(weights)"
   ]
  },
  {
   "cell_type": "code",
   "execution_count": 28,
   "id": "6db8e75f",
   "metadata": {},
   "outputs": [],
   "source": [
    "result[21] = reg.intercept_\n",
    "# note: don't need to add \"x21\"=1! weight21 = intercept!"
   ]
  },
  {
   "cell_type": "code",
   "execution_count": 30,
   "id": "76060015",
   "metadata": {},
   "outputs": [],
   "source": [
    "result.to_csv(out_path, header=False, index=False)"
   ]
  },
  {
   "cell_type": "code",
   "execution_count": null,
   "id": "59ba9c98",
   "metadata": {},
   "outputs": [],
   "source": []
  }
 ],
 "metadata": {
  "kernelspec": {
   "display_name": "Python 3",
   "language": "python",
   "name": "python3"
  },
  "language_info": {
   "codemirror_mode": {
    "name": "ipython",
    "version": 3
   },
   "file_extension": ".py",
   "mimetype": "text/x-python",
   "name": "python",
   "nbconvert_exporter": "python",
   "pygments_lexer": "ipython3",
   "version": "3.8.8"
  }
 },
 "nbformat": 4,
 "nbformat_minor": 5
}
