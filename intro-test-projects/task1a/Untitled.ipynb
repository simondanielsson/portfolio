{
 "cells": [
  {
   "cell_type": "code",
   "execution_count": 93,
   "id": "8c46715c-d0e5-41fe-8177-a434c377bf3c",
   "metadata": {},
   "outputs": [
    {
     "name": "stdout",
     "output_type": "stream",
     "text": [
      "0    5.501809\n",
      "1    5.499839\n",
      "2    5.483631\n",
      "3    5.636642\n",
      "4    5.721234\n",
      "dtype: float64\n"
     ]
    }
   ],
   "source": [
    "import pandas as pd\n",
    "\n",
    "import matplotlib.pyplot as plt\n",
    "\n",
    "from sklearn.linear_model import Ridge\n",
    "from sklearn.model_selection import GridSearchCV\n",
    "from sklearn.model_selection import train_test_split\n",
    "\n",
    "def run_pipeline(path: str) -> None:\n",
    "    data = pd.read_csv(path)\n",
    "    \n",
    "    y = data[\"y\"]\n",
    "    X = data[data.columns[1:]]\n",
    "    \n",
    "    lambdas = {\"alpha\": [0.1, 1, 10, 100, 200]}\n",
    "    \n",
    "    model = Ridge()\n",
    "    \n",
    "    scoring = \"neg_root_mean_squared_error\"\n",
    "    gs = GridSearchCV(model, param_grid=lambdas, cv=10, scoring=scoring)\n",
    "    \n",
    "    gs.fit(X, y)\n",
    "    \n",
    "    RMSE_avg = - gs.cv_results_[\"mean_test_score\"]\n",
    "    \n",
    "    # To csv\n",
    "    out_path = \"./submission.csv\"\n",
    "    result = pd.Series(RMSE_avg)\n",
    "    #result.to_csv(out_path, header=False, index=False)\n",
    "    print(result)\n",
    "\n",
    "\n",
    "if __name__ == \"__main__\":\n",
    "\n",
    "    path = \"./train.csv\"\n",
    "    run_pipeline(path)    "
   ]
  },
  {
   "cell_type": "code",
   "execution_count": null,
   "id": "47183552-c1b4-415e-a584-c53bed07c8e9",
   "metadata": {},
   "outputs": [],
   "source": []
  }
 ],
 "metadata": {
  "kernelspec": {
   "display_name": "Python 3 (ipykernel)",
   "language": "python",
   "name": "python3"
  },
  "language_info": {
   "codemirror_mode": {
    "name": "ipython",
    "version": 3
   },
   "file_extension": ".py",
   "mimetype": "text/x-python",
   "name": "python",
   "nbconvert_exporter": "python",
   "pygments_lexer": "ipython3",
   "version": "3.9.7"
  }
 },
 "nbformat": 4,
 "nbformat_minor": 5
}
